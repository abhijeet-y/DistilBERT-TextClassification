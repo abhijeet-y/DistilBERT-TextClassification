{
 "cells": [
  {
   "cell_type": "markdown",
   "id": "b690b539-af3f-4651-9b8f-3d608902aa00",
   "metadata": {},
   "source": [
    "## Imports"
   ]
  },
  {
   "cell_type": "code",
   "execution_count": 1,
   "id": "a333b93d-b8e3-44f3-bc8d-56f522299f1d",
   "metadata": {},
   "outputs": [],
   "source": [
    "import pandas as pd\n",
    "import numpy as np\n",
    "import matplotlib.pyplot as plt\n",
    "from IPython.display import Image\n",
    "import seaborn as sns"
   ]
  },
  {
   "cell_type": "code",
   "execution_count": 2,
   "id": "7becabe6-83be-4bad-a102-bda19f9e409c",
   "metadata": {},
   "outputs": [],
   "source": [
    "import pyarrow as pa\n",
    "from datasets import Dataset\n",
    "from datasets import load_dataset\n",
    "from datasets import DatasetDict"
   ]
  },
  {
   "cell_type": "code",
   "execution_count": 3,
   "id": "4bb58705-a0d8-47fc-8d14-cdd6c33c519b",
   "metadata": {},
   "outputs": [],
   "source": [
    "from umap import UMAP\n",
    "from sklearn.preprocessing import MinMaxScaler\n",
    "from transformers import AutoTokenizer"
   ]
  },
  {
   "cell_type": "code",
   "execution_count": 4,
   "id": "ae2e3207-10e3-450f-8d3a-3ebe82bf1b4b",
   "metadata": {},
   "outputs": [],
   "source": [
    "import torch\n",
    "import torch.nn.functional as F\n",
    "from transformers import AutoModel"
   ]
  },
  {
   "cell_type": "code",
   "execution_count": 5,
   "id": "676c07e1-27c7-4813-90c8-704250324269",
   "metadata": {},
   "outputs": [
    {
     "name": "stderr",
     "output_type": "stream",
     "text": [
      "C:\\Users\\abhij\\Desktop\\Transformers\\transformers\\lib\\site-packages\\torchvision\\datapoints\\__init__.py:12: UserWarning: The torchvision.datapoints and torchvision.transforms.v2 namespaces are still Beta. While we do not expect major breaking changes, some APIs may still change according to user feedback. Please submit any feedback you may have in this issue: https://github.com/pytorch/vision/issues/6753, and you can also check out https://github.com/pytorch/vision/issues/7319 to learn more about the APIs that we suspect might involve future changes. You can silence this warning by calling torchvision.disable_beta_transforms_warning().\n",
      "  warnings.warn(_BETA_TRANSFORMS_WARNING)\n",
      "C:\\Users\\abhij\\Desktop\\Transformers\\transformers\\lib\\site-packages\\torchvision\\transforms\\v2\\__init__.py:54: UserWarning: The torchvision.datapoints and torchvision.transforms.v2 namespaces are still Beta. While we do not expect major breaking changes, some APIs may still change according to user feedback. Please submit any feedback you may have in this issue: https://github.com/pytorch/vision/issues/6753, and you can also check out https://github.com/pytorch/vision/issues/7319 to learn more about the APIs that we suspect might involve future changes. You can silence this warning by calling torchvision.disable_beta_transforms_warning().\n",
      "  warnings.warn(_BETA_TRANSFORMS_WARNING)\n"
     ]
    }
   ],
   "source": [
    "from sklearn.metrics import f1_score,classification_report\n",
    "from sklearn.preprocessing import LabelEncoder\n",
    "from sklearn.metrics import ConfusionMatrixDisplay, confusion_matrix\n",
    "from transformers import AutoModelForSequenceClassification\n",
    "from transformers import Trainer, TrainingArguments\n",
    "from sklearn.metrics import accuracy_score,f1_score\n",
    "from transformers import Trainer\n",
    "from torch.nn.functional import cross_entropy\n",
    "from transformers import pipeline"
   ]
  },
  {
   "cell_type": "markdown",
   "id": "13b25eb0-bdd3-4d10-8c49-d0a29c7699e2",
   "metadata": {},
   "source": [
    "## Helper Functions"
   ]
  },
  {
   "cell_type": "code",
   "execution_count": 6,
   "id": "c9b58227-84fb-4c2e-87c8-5137ee048c78",
   "metadata": {},
   "outputs": [],
   "source": [
    "def tokenize(batch):\n",
    "    '''This function applies tokenizer to a batch of examples; padding=True will pad the examples with\n",
    "    zeros to the size of the longest one in a batch, and truncation=True will truncate the examples\n",
    "    to the model's maximum context size.'''\n",
    "    return tokenizer(batch[\"Claim Description\"],padding=True, truncation = True)"
   ]
  },
  {
   "cell_type": "code",
   "execution_count": 7,
   "id": "0400ec06-6b5f-4507-8d7e-e30f2a8aef2f",
   "metadata": {},
   "outputs": [],
   "source": [
    "def filter_high_frequency_classes(data,col,pct):\n",
    "    # Get value counts for each category in 'Coverage Code'\n",
    "    coverage_counts =data[col].value_counts(normalize=True)*100\n",
    "    \n",
    "    # Filter to retain only categories with counts greater than 1 pct\n",
    "    high_frequency_class = coverage_counts[coverage_counts > pct].index\n",
    "    \n",
    "    return high_frequency_class"
   ]
  },
  {
   "cell_type": "code",
   "execution_count": 8,
   "id": "9083af25-8873-4293-8759-c064bf372ce6",
   "metadata": {},
   "outputs": [],
   "source": [
    "def assign_others(cat,high_frequency_cat):\n",
    "    if cat in high_frequency_cat:\n",
    "        return cat\n",
    "    else:\n",
    "        return 'other'\n",
    "        "
   ]
  },
  {
   "cell_type": "code",
   "execution_count": 9,
   "id": "4d52e491-c840-40d4-9c7a-028d4639f818",
   "metadata": {},
   "outputs": [],
   "source": [
    "def label_int2str(x,label_mapping):\n",
    "    label_mapping_rev={}\n",
    "    for k,v in label_mapping.items():\n",
    "        label_mapping_rev[v]=k\n",
    "    return label_mapping_rev[x]"
   ]
  },
  {
   "cell_type": "code",
   "execution_count": 10,
   "id": "46c084dd-d4c3-4774-bdee-eb21173332a1",
   "metadata": {},
   "outputs": [],
   "source": [
    "def str2int(x,label_mapping):\n",
    "    return label_mapping[x]"
   ]
  },
  {
   "cell_type": "code",
   "execution_count": 11,
   "id": "df3c6790-fadc-48c7-98ef-9b8c2539fb03",
   "metadata": {},
   "outputs": [],
   "source": [
    "def plot_confusion_matrix(y_preds,y_true, labels=None):\n",
    "    labels = y_preds.unique()\n",
    "    labels.sort()\n",
    "    cm = confusion_matrix(y_true, y_preds, normalize=\"true\",labels=labels)\n",
    "    fig,ax = plt.subplots(figsize=(20,6))\n",
    "    disp = ConfusionMatrixDisplay(confusion_matrix =cm,display_labels=labels)\n",
    "    disp.plot(cmap=\"Blues\", values_format=\".2f\", ax=ax, colorbar=False)\n",
    "    plt.xticks(rotation=90)\n",
    "    plt.title(\"Normalized Confusion Matrix\")\n",
    "    plt.show()"
   ]
  },
  {
   "cell_type": "markdown",
   "id": "82f1bc10-1896-41f7-af48-4175469a3a2f",
   "metadata": {},
   "source": [
    "---------------"
   ]
  },
  {
   "cell_type": "markdown",
   "id": "7a0b27f8-ecc4-4de1-be10-de6c2628da9b",
   "metadata": {},
   "source": [
    "## Loading and Preparing Data"
   ]
  },
  {
   "cell_type": "code",
   "execution_count": 12,
   "id": "89a508bb-b1cf-458e-8c0c-6869b9a84a2c",
   "metadata": {},
   "outputs": [],
   "source": [
    "df = pd.read_csv(r'C:\\Users\\abhij\\Desktop\\NewGen\\Gallagher\\Dataset_Public.csv')\n",
    "df = df[df['Claim Description'].notna()]"
   ]
  },
  {
   "cell_type": "code",
   "execution_count": 13,
   "id": "ce7fa484-9eac-4be2-ba09-a1d86a39b3ad",
   "metadata": {},
   "outputs": [],
   "source": [
    "pct = 1\n",
    "col = 'Coverage Code'\n",
    "high_frequency_coverage_code = filter_high_frequency_classes(df,col,pct)"
   ]
  },
  {
   "cell_type": "code",
   "execution_count": 14,
   "id": "904d3b85-39ed-4e12-b21d-0abfd36c190f",
   "metadata": {},
   "outputs": [],
   "source": [
    "col ='Accident Source'\n",
    "pct = 1\n",
    "high_frequency_accident_source = filter_high_frequency_classes(df,col,pct)"
   ]
  },
  {
   "cell_type": "code",
   "execution_count": 15,
   "id": "d2b2312b-62a0-4f78-b1e9-ebe1228d6e58",
   "metadata": {},
   "outputs": [],
   "source": [
    "df['Coverage Code Merged'] = df['Coverage Code'].apply(lambda x:assign_others(x,high_frequency_coverage_code))\n",
    "df['Accident Source Merged'] = df['Accident Source'].apply(lambda x:assign_others(x,high_frequency_accident_source))"
   ]
  },
  {
   "cell_type": "markdown",
   "id": "70ba6199-f05f-40f3-bd4c-212837257df9",
   "metadata": {},
   "source": [
    "-----------"
   ]
  },
  {
   "cell_type": "markdown",
   "id": "b13a88a7-bfa9-4201-9b49-74f5934ab195",
   "metadata": {},
   "source": [
    "### Label Encoding the Merged Columns"
   ]
  },
  {
   "cell_type": "code",
   "execution_count": 16,
   "id": "09523ef5-579b-40e2-bf11-6099f5551a69",
   "metadata": {},
   "outputs": [
    {
     "name": "stdout",
     "output_type": "stream",
     "text": [
      "{'AB': 0, 'AD': 1, 'AL': 2, 'AP': 3, 'GB': 4, 'GD': 5, 'NS': 6, 'PA': 7, 'PB': 8, 'RB': 9, 'other': 10}\n"
     ]
    }
   ],
   "source": [
    "# Assume `df` is your DataFrame and `categorical_column` is the column to encode\n",
    "coverage_code_le = LabelEncoder()\n",
    "df['Coverage Code Encoded'] = coverage_code_le.fit_transform(df['Coverage Code Merged'])\n",
    "\n",
    "# Mapping of labels to integers\n",
    "coverage_code_label_mapping = dict(zip(coverage_code_le.classes_, coverage_code_le.transform(coverage_code_le.classes_)))\n",
    "print(coverage_code_label_mapping)\n"
   ]
  },
  {
   "cell_type": "code",
   "execution_count": 17,
   "id": "72e19b46-6a2f-4d0d-a5a8-753f1adfd5f8",
   "metadata": {},
   "outputs": [
    {
     "name": "stdout",
     "output_type": "stream",
     "text": [
      "{'Alleged Negligent Act': 0, 'Alleged contamination or spoilage': 1, 'Alleged damage to property of others': 2, 'Alleged design flaw, defect': 3, 'Alleged foreign object in product': 4, 'Alleged improper maintenance - other': 5, 'Backed into vehicle or object': 6, 'Cart': 7, 'Ground/floor': 8, 'Human Action, NOC': 9, 'Intersection accident': 10, 'Not Otherwise Classified': 11, 'Our vehicle struck in rear': 12, 'Pothole': 13, 'Sideswipe or lane change': 14, 'Struck animal or object': 15, 'Struck parked vehicle': 16, 'Struck vehicle in rear': 17, 'Struck/pulled down wires': 18, 'Vehicle Accident': 19, 'Windshield': 20, 'e-Commerce': 21, 'other': 22}\n"
     ]
    }
   ],
   "source": [
    "# Assume `df` is your DataFrame and `categorical_column` is the column to encode\n",
    "accident_source_le = LabelEncoder()\n",
    "df['Accident Source Encoded'] = accident_source_le.fit_transform(df['Accident Source Merged'])\n",
    "\n",
    "# Mapping of labels to integers\n",
    "accident_source_label_mapping = dict(zip(accident_source_le.classes_, accident_source_le.transform(accident_source_le.classes_)))\n",
    "print(accident_source_label_mapping)"
   ]
  },
  {
   "cell_type": "markdown",
   "id": "1cbbfffa-8ec8-4cc3-ab05-2cc0167eaf6e",
   "metadata": {},
   "source": [
    "------------"
   ]
  },
  {
   "cell_type": "markdown",
   "id": "736636b2-07c6-4c8c-9d0f-69cda41d48b6",
   "metadata": {},
   "source": [
    "### Making the Predictions"
   ]
  },
  {
   "cell_type": "code",
   "execution_count": 18,
   "id": "caa09d88-bdb8-4ec5-94ec-3455d65e050c",
   "metadata": {},
   "outputs": [],
   "source": [
    "def return_predictions(x,label_mapping):\n",
    "    x = int(x['label'].split('_')[-1])\n",
    "    return label_int2str(x,label_mapping)"
   ]
  },
  {
   "cell_type": "code",
   "execution_count": 19,
   "id": "80a32812-e00a-46f7-9b5e-4f26225bf5a9",
   "metadata": {},
   "outputs": [],
   "source": [
    "## task =1 for `Coverage Code` predictions\n",
    "## task =2 for `Accident Source` predictions\n",
    "\n",
    "task=1\n",
    "\n",
    "if task==1:\n",
    "    model_path = r'C:\\Users\\abhij\\Desktop\\Transformers\\transformers\\Notebooks\\Gallhagher_AJG\\results\\model1'\n",
    "    input_col = 'Claim Description'\n",
    "    target_col = 'Coverage Code Merged'\n",
    "    labels = coverage_code_label_mapping\n",
    "    model_id = \"abhxaxhbshxahxn/CoverageCodePred\"\n",
    "else:\n",
    "    model_path = r'C:\\Users\\abhij\\Desktop\\Transformers\\transformers\\Notebooks\\Gallhagher_AJG\\results_accident_source\\model1'\n",
    "    input_col = 'Claim Description'\n",
    "    target_col = 'Accident Source Merged'\n",
    "    labels = accident_source_label_mapping\n",
    "    model_id = \"abhxaxhbshxahxn/AccidentSource_Predictions\""
   ]
  },
  {
   "cell_type": "code",
   "execution_count": 22,
   "id": "d15cd771-8605-4493-966e-c93a25b813b3",
   "metadata": {},
   "outputs": [
    {
     "name": "stdout",
     "output_type": "stream",
     "text": [
      "Device: cuda\n"
     ]
    }
   ],
   "source": [
    "save_path = model_path\n",
    "device = torch.device(\"cuda\" if torch.cuda.is_available() else \"cpu\")\n",
    "print(\"Device:\",device)\n",
    "# model = AutoModelForSequenceClassification.from_pretrained(save_path, return_dict=True).to(device)\n",
    "# tokenizer = AutoTokenizer.from_pretrained(save_path)"
   ]
  },
  {
   "cell_type": "code",
   "execution_count": 32,
   "id": "57460a75-a3e7-47b4-a54f-b60bd227050d",
   "metadata": {},
   "outputs": [],
   "source": [
    "classifier_ = pipeline(\"text-classification\",model= model_id,device=device)"
   ]
  },
  {
   "cell_type": "code",
   "execution_count": 33,
   "id": "f301f5cf-e83c-4e3b-8f41-7e7ee50f21c7",
   "metadata": {},
   "outputs": [],
   "source": [
    "# classifier_ = pipeline(\"text-classification\",model= model,tokenizer= tokenizer,device=device)"
   ]
  },
  {
   "cell_type": "markdown",
   "id": "da270127-cac3-48f8-8b13-2b0867ee3268",
   "metadata": {},
   "source": [
    "#### Prediction on a single input"
   ]
  },
  {
   "cell_type": "code",
   "execution_count": 34,
   "id": "aedf3d30-a067-4f46-9613-db71ca425caf",
   "metadata": {},
   "outputs": [
    {
     "name": "stderr",
     "output_type": "stream",
     "text": [
      "C:\\Users\\abhij\\Desktop\\Transformers\\transformers\\lib\\site-packages\\transformers\\pipelines\\text_classification.py:106: UserWarning: `return_all_scores` is now deprecated,  if want a similar functionality use `top_k=None` instead of `return_all_scores=True` or `top_k=1` instead of `return_all_scores=False`.\n",
      "  warnings.warn(\n"
     ]
    }
   ],
   "source": [
    "# labels = accident_source_label_mapping.keys()\n",
    "# custom_tweet = [desc for desc in df.loc[2,'Claim Description']]\n",
    "idx = 10000\n",
    "custom_input = df.loc[idx,input_col]\n",
    "correct = df.loc[idx,target_col]\n",
    "preds = classifier_(custom_input, return_all_scores=True)\n",
    "pred_df = pd.DataFrame(preds[0])"
   ]
  },
  {
   "cell_type": "code",
   "execution_count": 35,
   "id": "647c262a-a30e-47d2-87c7-9c9beecf518d",
   "metadata": {},
   "outputs": [
    {
     "data": {
      "image/png": "[encoded data removed]",
      "text/plain": [
       "<Figure size 640x480 with 1 Axes>"
      ]
     },
     "metadata": {},
     "output_type": "display_data"
    }
   ],
   "source": [
    "plt.bar(labels.keys(),100*pred_df[\"score\"],color='C0')\n",
    "if len(custom_input)>80:\n",
    "    plt.title(f\"{custom_input[:80]}\")\n",
    "else:\n",
    "    plt.title(f\"{custom_input}\")\n",
    "plt.ylabel(\"Class probability (%)\")\n",
    "plt.grid(True,linewidth=0.1)\n",
    "plt.xticks(rotation=90)\n",
    "plt.show()"
   ]
  },
  {
   "cell_type": "code",
   "execution_count": 36,
   "id": "a3c89c2a-948f-44df-9b22-04c306529a35",
   "metadata": {},
   "outputs": [
    {
     "name": "stdout",
     "output_type": "stream",
     "text": [
      "Actual Label is: AD\n"
     ]
    }
   ],
   "source": [
    "print(\"Actual Label is:\",correct)"
   ]
  },
  {
   "cell_type": "markdown",
   "id": "1bd15d67-8b02-4a31-8f2d-cd9a8607f93f",
   "metadata": {},
   "source": [
    "#### Prediction on a multiple outputs"
   ]
  },
  {
   "cell_type": "code",
   "execution_count": 216,
   "id": "86e8539e-588e-4a13-b636-432931694a49",
   "metadata": {},
   "outputs": [],
   "source": [
    "custom_input = [df.loc[idx,input_col] for idx in df.index]\n",
    "correct = [df.loc[idx,target_col] for idx in df.index]\n",
    "preds = classifier_(custom_input[:50], top_k=1)\n",
    "pred_df = pd.DataFrame(preds)"
   ]
  },
  {
   "cell_type": "code",
   "execution_count": 217,
   "id": "635b43c0-da98-45dd-a980-235ea67b7b99",
   "metadata": {},
   "outputs": [],
   "source": [
    "pred_df['Claim Description'] = custom_input[:50]\n",
    "pred_df['Predictions'] = pred_df[0].apply(lambda x:return_predictions(x,label_mapping=labels))\n",
    "pred_df['Confidence'] = pred_df[0].apply(lambda x:x['score'])\n",
    "pred_df['Actual'] = correct[:50]\n",
    "pred_df.drop(0,axis=1,inplace=True)"
   ]
  },
  {
   "cell_type": "code",
   "execution_count": 218,
   "id": "63f0d5d1-4716-459f-8974-5a0e5937c03b",
   "metadata": {},
   "outputs": [
    {
     "data": {
      "text/html": [
       "<div>\n",
       "<style scoped>\n",
       "    .dataframe tbody tr th:only-of-type {\n",
       "        vertical-align: middle;\n",
       "    }\n",
       "\n",
       "    .dataframe tbody tr th {\n",
       "        vertical-align: top;\n",
       "    }\n",
       "\n",
       "    .dataframe thead th {\n",
       "        text-align: right;\n",
       "    }\n",
       "</style>\n",
       "<table border=\"1\" class=\"dataframe\">\n",
       "  <thead>\n",
       "    <tr style=\"text-align: right;\">\n",
       "      <th></th>\n",
       "      <th>Claim Description</th>\n",
       "      <th>Predictions</th>\n",
       "      <th>Confidence</th>\n",
       "      <th>Actual</th>\n",
       "    </tr>\n",
       "  </thead>\n",
       "  <tbody>\n",
       "    <tr>\n",
       "      <th>0</th>\n",
       "      <td>THE IV WAS MAKING A LEFT TURN ON A GREEN ARROW...</td>\n",
       "      <td>AB</td>\n",
       "      <td>0.684040</td>\n",
       "      <td>other</td>\n",
       "    </tr>\n",
       "    <tr>\n",
       "      <th>1</th>\n",
       "      <td>CLAIMANT ALLEGES SHE SUFFERED INJURIES IN AN E...</td>\n",
       "      <td>GB</td>\n",
       "      <td>0.909479</td>\n",
       "      <td>GB</td>\n",
       "    </tr>\n",
       "    <tr>\n",
       "      <th>2</th>\n",
       "      <td>IV PASSENGER SUSTAINED INJURIES, OV AND IV COL...</td>\n",
       "      <td>AB</td>\n",
       "      <td>0.456389</td>\n",
       "      <td>AB</td>\n",
       "    </tr>\n",
       "    <tr>\n",
       "      <th>3</th>\n",
       "      <td>CLAIMANT ALLEGES SHE WAS BURNED UNKNOWN DEGREE...</td>\n",
       "      <td>PA</td>\n",
       "      <td>0.987660</td>\n",
       "      <td>PA</td>\n",
       "    </tr>\n",
       "    <tr>\n",
       "      <th>4</th>\n",
       "      <td>THE IV WAS MERGING INTO A CONSTRUCTION ZONE WH...</td>\n",
       "      <td>AD</td>\n",
       "      <td>0.837581</td>\n",
       "      <td>AD</td>\n",
       "    </tr>\n",
       "  </tbody>\n",
       "</table>\n",
       "</div>"
      ],
      "text/plain": [
       "                                   Claim Description Predictions  Confidence  \\\n",
       "0  THE IV WAS MAKING A LEFT TURN ON A GREEN ARROW...          AB    0.684040   \n",
       "1  CLAIMANT ALLEGES SHE SUFFERED INJURIES IN AN E...          GB    0.909479   \n",
       "2  IV PASSENGER SUSTAINED INJURIES, OV AND IV COL...          AB    0.456389   \n",
       "3  CLAIMANT ALLEGES SHE WAS BURNED UNKNOWN DEGREE...          PA    0.987660   \n",
       "4  THE IV WAS MERGING INTO A CONSTRUCTION ZONE WH...          AD    0.837581   \n",
       "\n",
       "  Actual  \n",
       "0  other  \n",
       "1     GB  \n",
       "2     AB  \n",
       "3     PA  \n",
       "4     AD  "
      ]
     },
     "execution_count": 218,
     "metadata": {},
     "output_type": "execute_result"
    }
   ],
   "source": [
    "pred_df.head()"
   ]
  },
  {
   "cell_type": "code",
   "execution_count": 219,
   "id": "00525996-2783-48ad-8237-dacd34ad5dda",
   "metadata": {},
   "outputs": [
    {
     "data": {
      "image/png": "[encoded data removed]",
      "text/plain": [
       "<Figure size 2000x600 with 1 Axes>"
      ]
     },
     "metadata": {},
     "output_type": "display_data"
    }
   ],
   "source": [
    "plot_confusion_matrix(pred_df['Actual'], pred_df['Predictions'])"
   ]
  },
  {
   "cell_type": "code",
   "execution_count": null,
   "id": "f6718a06-89c0-49f1-9ac1-39f8b3d15dcb",
   "metadata": {},
   "outputs": [],
   "source": []
  },
  {
   "cell_type": "code",
   "execution_count": 80,
   "id": "48978b37-5b21-43b8-9a62-cc88bf8f5724",
   "metadata": {},
   "outputs": [],
   "source": [
    "# pred_df.to_csv('Predictions.csv')"
   ]
  },
  {
   "cell_type": "markdown",
   "id": "801165a3-f1b5-4e13-9814-a85a5f392447",
   "metadata": {},
   "source": [
    "---------------"
   ]
  },
  {
   "cell_type": "code",
   "execution_count": null,
   "id": "2a85effe-98bc-4105-896d-6f13e5651cb8",
   "metadata": {},
   "outputs": [],
   "source": []
  }
 ],
 "metadata": {
  "kernelspec": {
   "display_name": "transformers",
   "language": "python",
   "name": "transformers"
  },
  "language_info": {
   "codemirror_mode": {
    "name": "ipython",
    "version": 3
   },
   "file_extension": ".py",
   "mimetype": "text/x-python",
   "name": "python",
   "nbconvert_exporter": "python",
   "pygments_lexer": "ipython3",
   "version": "3.10.6"
  }
 },
 "nbformat": 4,
 "nbformat_minor": 5
}
